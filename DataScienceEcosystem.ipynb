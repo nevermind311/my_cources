{
 "cells": [
  {
   "cell_type": "markdown",
   "id": "a1d8b7d7-b3a8-47b7-b8ba-7c3a9c47c763",
   "metadata": {
    "editable": true,
    "slideshow": {
     "slide_type": ""
    },
    "tags": []
   },
   "source": [
    "# Data Science Tools and Ecosystem"
   ]
  },
  {
   "cell_type": "markdown",
   "id": "386082d1-9056-4697-9756-3e83d0588265",
   "metadata": {},
   "source": [
    "In this notebook, Data Science Tools and Ecosystem are summarized."
   ]
  },
  {
   "cell_type": "markdown",
   "id": "e74ad921-1544-40e9-a574-31d88e6f11b8",
   "metadata": {},
   "source": [
    "**Objectives:**\n",
    "- Python\n",
    "- R\n",
    "- Julia \n",
    "- SQL\n",
    "- Scala"
   ]
  },
  {
   "cell_type": "markdown",
   "id": "3af02d94-57b4-4458-a24b-8e4d58c8bdf6",
   "metadata": {},
   "source": [
    "Some of the popular languages that Data Scientists use are:\n",
    "\n",
    "1. Python\n",
    "2. R\n",
    "3. Julia\n",
    "4. SQL\n",
    "5. Scala"
   ]
  },
  {
   "cell_type": "markdown",
   "id": "11f41490-5b40-4684-9d16-896eb32d3520",
   "metadata": {},
   "source": [
    "Some of the commonly used libraries used by Data Scientists include:\n",
    "\n",
    "1. Numpy\n",
    "2. Pandas\n",
    "3. Matplotlib\n",
    "4. Plotly\n",
    "5. ggplot2\n",
    "6. TensorFlow"
   ]
  },
  {
   "cell_type": "markdown",
   "id": "ee863349-0bf3-4788-aa0c-c534f0717631",
   "metadata": {},
   "source": [
    "| Data Science Tools   |\n",
    "| -------------------- |\n",
    "| 1. Jupyter Notebooks |\n",
    "| 2. R Rtudio`s        |\n",
    "| 3. Pandas            |  \n"
   ]
  },
  {
   "cell_type": "markdown",
   "id": "a3f3d1c8-8ef2-49a3-8af0-aa18536d1d93",
   "metadata": {},
   "source": [
    "### Below are a few examples of evaluating arithmetic expressions in Python"
   ]
  },
  {
   "cell_type": "code",
   "execution_count": 2,
   "id": "6cd1ce2c-98a4-4a5c-b2de-915b4426fcd2",
   "metadata": {},
   "outputs": [
    {
     "data": {
      "text/plain": [
       "17"
      ]
     },
     "execution_count": 2,
     "metadata": {},
     "output_type": "execute_result"
    }
   ],
   "source": [
    "# This a simple arithmetic expression to mutiply then add integers\n",
    "(3*4)+5"
   ]
  },
  {
   "cell_type": "code",
   "execution_count": 3,
   "id": "976f731f-dcb0-4f76-a9a9-84e1c8b4c56b",
   "metadata": {},
   "outputs": [
    {
     "data": {
      "text/plain": [
       "3.3333333333333335"
      ]
     },
     "execution_count": 3,
     "metadata": {},
     "output_type": "execute_result"
    }
   ],
   "source": [
    "# This will convert 200 minutes to hours by diving by 60\n",
    "minutes  = 200\n",
    "hours = minutes/60\n",
    "hours"
   ]
  },
  {
   "cell_type": "markdown",
   "id": "d26f1095-5595-4ca9-849a-0dc7e6854b1a",
   "metadata": {},
   "source": [
    "## Author\n",
    "Alexandr Zapadniuk"
   ]
  },
  {
   "cell_type": "code",
   "execution_count": null,
   "id": "93662268-44a8-4324-88c9-55ae032cc4c6",
   "metadata": {},
   "outputs": [],
   "source": []
  }
 ],
 "metadata": {
  "kernelspec": {
   "display_name": "Python 3 (ipykernel)",
   "language": "python",
   "name": "python3"
  },
  "language_info": {
   "codemirror_mode": {
    "name": "ipython",
    "version": 3
   },
   "file_extension": ".py",
   "mimetype": "text/x-python",
   "name": "python",
   "nbconvert_exporter": "python",
   "pygments_lexer": "ipython3",
   "version": "3.10.12"
  }
 },
 "nbformat": 4,
 "nbformat_minor": 5
}
